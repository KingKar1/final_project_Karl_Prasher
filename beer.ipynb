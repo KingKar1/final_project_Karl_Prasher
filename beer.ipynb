{
 "cells": [
  {
   "cell_type": "markdown",
   "metadata": {},
   "source": [
    "Importing packages for further use later"
   ]
  },
  {
   "cell_type": "code",
   "execution_count": 88,
   "metadata": {
    "collapsed": true
   },
   "outputs": [],
   "source": [
    "from pathlib import Path\n",
    "\n",
    "import pandas as pd\n",
    "import numpy as np\n",
    "import matplotlib.pyplot as plt\n",
    "import seaborn as sns\n",
    "\n",
    "# Display plots in-notebook\n",
    "%matplotlib inline\n",
    "\n",
    "# Increase default figure and font sizes for easier viewing.\n",
    "plt.rcParams['figure.figsize'] = (8, 6)\n",
    "plt.rcParams['font.size'] = 14\n",
    "\n",
    "plt.style.use('fivethirtyeight')"
   ]
  },
  {
   "cell_type": "markdown",
   "metadata": {},
   "source": [
    "Importing and perfoming exploratory data analysis on the beer.csv"
   ]
  },
  {
   "cell_type": "code",
   "execution_count": 89,
   "metadata": {
    "scrolled": false
   },
   "outputs": [
    {
     "data": {
      "text/html": [
       "<div>\n",
       "<style>\n",
       "    .dataframe thead tr:only-child th {\n",
       "        text-align: right;\n",
       "    }\n",
       "\n",
       "    .dataframe thead th {\n",
       "        text-align: left;\n",
       "    }\n",
       "\n",
       "    .dataframe tbody tr th {\n",
       "        vertical-align: top;\n",
       "    }\n",
       "</style>\n",
       "<table border=\"1\" class=\"dataframe\">\n",
       "  <thead>\n",
       "    <tr style=\"text-align: right;\">\n",
       "      <th></th>\n",
       "      <th>abv</th>\n",
       "      <th>ibu</th>\n",
       "      <th>id</th>\n",
       "      <th>name</th>\n",
       "      <th>style</th>\n",
       "      <th>brewery_id</th>\n",
       "      <th>ounces</th>\n",
       "    </tr>\n",
       "  </thead>\n",
       "  <tbody>\n",
       "    <tr>\n",
       "      <th>0</th>\n",
       "      <td>0.050</td>\n",
       "      <td>NaN</td>\n",
       "      <td>1436</td>\n",
       "      <td>Pub Beer</td>\n",
       "      <td>American Pale Lager</td>\n",
       "      <td>408</td>\n",
       "      <td>12.0</td>\n",
       "    </tr>\n",
       "    <tr>\n",
       "      <th>1</th>\n",
       "      <td>0.066</td>\n",
       "      <td>NaN</td>\n",
       "      <td>2265</td>\n",
       "      <td>Devil's Cup</td>\n",
       "      <td>American Pale Ale (APA)</td>\n",
       "      <td>177</td>\n",
       "      <td>12.0</td>\n",
       "    </tr>\n",
       "    <tr>\n",
       "      <th>2</th>\n",
       "      <td>0.071</td>\n",
       "      <td>NaN</td>\n",
       "      <td>2264</td>\n",
       "      <td>Rise of the Phoenix</td>\n",
       "      <td>American IPA</td>\n",
       "      <td>177</td>\n",
       "      <td>12.0</td>\n",
       "    </tr>\n",
       "    <tr>\n",
       "      <th>3</th>\n",
       "      <td>0.090</td>\n",
       "      <td>NaN</td>\n",
       "      <td>2263</td>\n",
       "      <td>Sinister</td>\n",
       "      <td>American Double / Imperial IPA</td>\n",
       "      <td>177</td>\n",
       "      <td>12.0</td>\n",
       "    </tr>\n",
       "    <tr>\n",
       "      <th>4</th>\n",
       "      <td>0.075</td>\n",
       "      <td>NaN</td>\n",
       "      <td>2262</td>\n",
       "      <td>Sex and Candy</td>\n",
       "      <td>American IPA</td>\n",
       "      <td>177</td>\n",
       "      <td>12.0</td>\n",
       "    </tr>\n",
       "  </tbody>\n",
       "</table>\n",
       "</div>"
      ],
      "text/plain": [
       "     abv  ibu    id                 name                           style  \\\n",
       "0  0.050  NaN  1436             Pub Beer             American Pale Lager   \n",
       "1  0.066  NaN  2265          Devil's Cup         American Pale Ale (APA)   \n",
       "2  0.071  NaN  2264  Rise of the Phoenix                    American IPA   \n",
       "3  0.090  NaN  2263             Sinister  American Double / Imperial IPA   \n",
       "4  0.075  NaN  2262        Sex and Candy                    American IPA   \n",
       "\n",
       "   brewery_id  ounces  \n",
       "0         408    12.0  \n",
       "1         177    12.0  \n",
       "2         177    12.0  \n",
       "3         177    12.0  \n",
       "4         177    12.0  "
      ]
     },
     "execution_count": 89,
     "metadata": {},
     "output_type": "execute_result"
    }
   ],
   "source": [
    "data1 = Path('.', 'data', 'craft-cans','beers.csv') # Works better cross-platform than hard-coding path as a string\n",
    "beer = pd.read_csv(data1)\n",
    "beer = beer.drop('Unnamed: 0',1)\n",
    "\n",
    "beer.head()"
   ]
  },
  {
   "cell_type": "code",
   "execution_count": 90,
   "metadata": {},
   "outputs": [
    {
     "data": {
      "text/plain": [
       "abv           float64\n",
       "ibu           float64\n",
       "id              int64\n",
       "name           object\n",
       "style          object\n",
       "brewery_id      int64\n",
       "ounces        float64\n",
       "dtype: object"
      ]
     },
     "execution_count": 90,
     "metadata": {},
     "output_type": "execute_result"
    }
   ],
   "source": [
    "beer.dtypes"
   ]
  },
  {
   "cell_type": "code",
   "execution_count": 91,
   "metadata": {},
   "outputs": [
    {
     "data": {
      "text/plain": [
       "(2410, 7)"
      ]
     },
     "execution_count": 91,
     "metadata": {},
     "output_type": "execute_result"
    }
   ],
   "source": [
    "beer.shape"
   ]
  },
  {
   "cell_type": "code",
   "execution_count": 92,
   "metadata": {
    "scrolled": true
   },
   "outputs": [
    {
     "data": {
      "text/html": [
       "<div>\n",
       "<style>\n",
       "    .dataframe thead tr:only-child th {\n",
       "        text-align: right;\n",
       "    }\n",
       "\n",
       "    .dataframe thead th {\n",
       "        text-align: left;\n",
       "    }\n",
       "\n",
       "    .dataframe tbody tr th {\n",
       "        vertical-align: top;\n",
       "    }\n",
       "</style>\n",
       "<table border=\"1\" class=\"dataframe\">\n",
       "  <thead>\n",
       "    <tr style=\"text-align: right;\">\n",
       "      <th></th>\n",
       "      <th>abv</th>\n",
       "      <th>ibu</th>\n",
       "      <th>id</th>\n",
       "      <th>brewery_id</th>\n",
       "      <th>ounces</th>\n",
       "    </tr>\n",
       "  </thead>\n",
       "  <tbody>\n",
       "    <tr>\n",
       "      <th>count</th>\n",
       "      <td>2348.000000</td>\n",
       "      <td>1405.000000</td>\n",
       "      <td>2410.000000</td>\n",
       "      <td>2410.000000</td>\n",
       "      <td>2410.000000</td>\n",
       "    </tr>\n",
       "    <tr>\n",
       "      <th>mean</th>\n",
       "      <td>0.059773</td>\n",
       "      <td>42.713167</td>\n",
       "      <td>1431.113278</td>\n",
       "      <td>231.749793</td>\n",
       "      <td>13.592241</td>\n",
       "    </tr>\n",
       "    <tr>\n",
       "      <th>std</th>\n",
       "      <td>0.013542</td>\n",
       "      <td>25.954066</td>\n",
       "      <td>752.459975</td>\n",
       "      <td>157.685604</td>\n",
       "      <td>2.352204</td>\n",
       "    </tr>\n",
       "    <tr>\n",
       "      <th>min</th>\n",
       "      <td>0.001000</td>\n",
       "      <td>4.000000</td>\n",
       "      <td>1.000000</td>\n",
       "      <td>0.000000</td>\n",
       "      <td>8.400000</td>\n",
       "    </tr>\n",
       "    <tr>\n",
       "      <th>25%</th>\n",
       "      <td>0.050000</td>\n",
       "      <td>21.000000</td>\n",
       "      <td>808.250000</td>\n",
       "      <td>93.000000</td>\n",
       "      <td>12.000000</td>\n",
       "    </tr>\n",
       "    <tr>\n",
       "      <th>50%</th>\n",
       "      <td>0.056000</td>\n",
       "      <td>35.000000</td>\n",
       "      <td>1453.500000</td>\n",
       "      <td>205.000000</td>\n",
       "      <td>12.000000</td>\n",
       "    </tr>\n",
       "    <tr>\n",
       "      <th>75%</th>\n",
       "      <td>0.067000</td>\n",
       "      <td>64.000000</td>\n",
       "      <td>2075.750000</td>\n",
       "      <td>366.000000</td>\n",
       "      <td>16.000000</td>\n",
       "    </tr>\n",
       "    <tr>\n",
       "      <th>max</th>\n",
       "      <td>0.128000</td>\n",
       "      <td>138.000000</td>\n",
       "      <td>2692.000000</td>\n",
       "      <td>557.000000</td>\n",
       "      <td>32.000000</td>\n",
       "    </tr>\n",
       "  </tbody>\n",
       "</table>\n",
       "</div>"
      ],
      "text/plain": [
       "               abv          ibu           id   brewery_id       ounces\n",
       "count  2348.000000  1405.000000  2410.000000  2410.000000  2410.000000\n",
       "mean      0.059773    42.713167  1431.113278   231.749793    13.592241\n",
       "std       0.013542    25.954066   752.459975   157.685604     2.352204\n",
       "min       0.001000     4.000000     1.000000     0.000000     8.400000\n",
       "25%       0.050000    21.000000   808.250000    93.000000    12.000000\n",
       "50%       0.056000    35.000000  1453.500000   205.000000    12.000000\n",
       "75%       0.067000    64.000000  2075.750000   366.000000    16.000000\n",
       "max       0.128000   138.000000  2692.000000   557.000000    32.000000"
      ]
     },
     "execution_count": 92,
     "metadata": {},
     "output_type": "execute_result"
    }
   ],
   "source": [
    "beer.describe()"
   ]
  },
  {
   "cell_type": "code",
   "execution_count": 93,
   "metadata": {
    "scrolled": true
   },
   "outputs": [
    {
     "data": {
      "text/plain": [
       "American IPA                           424\n",
       "American Pale Ale (APA)                245\n",
       "American Amber / Red Ale               133\n",
       "American Blonde Ale                    108\n",
       "American Double / Imperial IPA         105\n",
       "American Pale Wheat Ale                 97\n",
       "American Brown Ale                      70\n",
       "American Porter                         68\n",
       "Saison / Farmhouse Ale                  52\n",
       "Witbier                                 51\n",
       "Fruit / Vegetable Beer                  49\n",
       "Kölsch                                  42\n",
       "Hefeweizen                              40\n",
       "American Pale Lager                     39\n",
       "American Stout                          39\n",
       "Cider                                   37\n",
       "American Black Ale                      36\n",
       "German Pilsener                         36\n",
       "Märzen / Oktoberfest                    30\n",
       "Cream Ale                               29\n",
       "American Amber / Red Lager              29\n",
       "Czech Pilsener                          28\n",
       "American Pilsner                        25\n",
       "Belgian Pale Ale                        24\n",
       "Pumpkin Ale                             23\n",
       "Vienna Lager                            20\n",
       "Extra Special / Strong Bitter (ESB)     20\n",
       "Munich Helles Lager                     20\n",
       "Scottish Ale                            19\n",
       "Belgian IPA                             18\n",
       "                                      ... \n",
       "Dunkelweizen                             4\n",
       "Quadrupel (Quad)                         4\n",
       "English Strong Ale                       4\n",
       "Munich Dunkel Lager                      4\n",
       "Chile Beer                               3\n",
       "Shandy                                   3\n",
       "English Bitter                           3\n",
       "American India Pale Lager                3\n",
       "Keller Bier / Zwickel Bier               3\n",
       "English Barleywine                       3\n",
       "English Pale Mild Ale                    3\n",
       "Radler                                   3\n",
       "American Barleywine                      3\n",
       "American Double / Imperial Pilsner       2\n",
       "Roggenbier                               2\n",
       "Rauchbier                                2\n",
       "Old Ale                                  2\n",
       "Abbey Single Ale                         2\n",
       "English Stout                            2\n",
       "Euro Pale Lager                          2\n",
       "Wheat Ale                                1\n",
       "Flanders Oud Bruin                       1\n",
       "Kristalweizen                            1\n",
       "American Malt Liquor                     1\n",
       "Other                                    1\n",
       "Grisette                                 1\n",
       "Braggot                                  1\n",
       "Flanders Red Ale                         1\n",
       "Smoked Beer                              1\n",
       "Low Alcohol Beer                         1\n",
       "Name: style, Length: 99, dtype: int64"
      ]
     },
     "execution_count": 93,
     "metadata": {},
     "output_type": "execute_result"
    }
   ],
   "source": [
    "beer.loc[:,'style'].value_counts()"
   ]
  },
  {
   "cell_type": "markdown",
   "metadata": {},
   "source": [
    "Clearly, data is missing from the ibu column"
   ]
  },
  {
   "cell_type": "code",
   "execution_count": 94,
   "metadata": {
    "scrolled": true
   },
   "outputs": [
    {
     "data": {
      "text/plain": [
       "abv             62\n",
       "ibu           1005\n",
       "id               0\n",
       "name             0\n",
       "style            5\n",
       "brewery_id       0\n",
       "ounces           0\n",
       "dtype: int64"
      ]
     },
     "execution_count": 94,
     "metadata": {},
     "output_type": "execute_result"
    }
   ],
   "source": [
    "beer.isnull().sum()"
   ]
  },
  {
   "cell_type": "markdown",
   "metadata": {},
   "source": [
    "Importing the breweries.csv and performing exploratory data analysis on it."
   ]
  },
  {
   "cell_type": "code",
   "execution_count": 95,
   "metadata": {
    "scrolled": false
   },
   "outputs": [
    {
     "data": {
      "text/html": [
       "<div>\n",
       "<style>\n",
       "    .dataframe thead tr:only-child th {\n",
       "        text-align: right;\n",
       "    }\n",
       "\n",
       "    .dataframe thead th {\n",
       "        text-align: left;\n",
       "    }\n",
       "\n",
       "    .dataframe tbody tr th {\n",
       "        vertical-align: top;\n",
       "    }\n",
       "</style>\n",
       "<table border=\"1\" class=\"dataframe\">\n",
       "  <thead>\n",
       "    <tr style=\"text-align: right;\">\n",
       "      <th></th>\n",
       "      <th>name</th>\n",
       "      <th>city</th>\n",
       "      <th>state</th>\n",
       "    </tr>\n",
       "  </thead>\n",
       "  <tbody>\n",
       "    <tr>\n",
       "      <th>0</th>\n",
       "      <td>NorthGate Brewing</td>\n",
       "      <td>Minneapolis</td>\n",
       "      <td>MN</td>\n",
       "    </tr>\n",
       "    <tr>\n",
       "      <th>1</th>\n",
       "      <td>Against the Grain Brewery</td>\n",
       "      <td>Louisville</td>\n",
       "      <td>KY</td>\n",
       "    </tr>\n",
       "    <tr>\n",
       "      <th>2</th>\n",
       "      <td>Jack's Abby Craft Lagers</td>\n",
       "      <td>Framingham</td>\n",
       "      <td>MA</td>\n",
       "    </tr>\n",
       "    <tr>\n",
       "      <th>3</th>\n",
       "      <td>Mike Hess Brewing Company</td>\n",
       "      <td>San Diego</td>\n",
       "      <td>CA</td>\n",
       "    </tr>\n",
       "    <tr>\n",
       "      <th>4</th>\n",
       "      <td>Fort Point Beer Company</td>\n",
       "      <td>San Francisco</td>\n",
       "      <td>CA</td>\n",
       "    </tr>\n",
       "  </tbody>\n",
       "</table>\n",
       "</div>"
      ],
      "text/plain": [
       "                        name           city state\n",
       "0         NorthGate Brewing     Minneapolis    MN\n",
       "1  Against the Grain Brewery     Louisville    KY\n",
       "2   Jack's Abby Craft Lagers     Framingham    MA\n",
       "3  Mike Hess Brewing Company      San Diego    CA\n",
       "4    Fort Point Beer Company  San Francisco    CA"
      ]
     },
     "execution_count": 95,
     "metadata": {},
     "output_type": "execute_result"
    }
   ],
   "source": [
    "data2 = Path('.', 'data','craft-cans', 'breweries.csv')\n",
    "breweries = pd.read_csv(data2)\n",
    "breweries = breweries.drop('Unnamed: 0',1)\n",
    "\n",
    "breweries.head()"
   ]
  },
  {
   "cell_type": "code",
   "execution_count": 96,
   "metadata": {},
   "outputs": [
    {
     "data": {
      "text/plain": [
       "name     object\n",
       "city     object\n",
       "state    object\n",
       "dtype: object"
      ]
     },
     "execution_count": 96,
     "metadata": {},
     "output_type": "execute_result"
    }
   ],
   "source": [
    "breweries.dtypes"
   ]
  },
  {
   "cell_type": "code",
   "execution_count": 97,
   "metadata": {},
   "outputs": [
    {
     "data": {
      "text/plain": [
       "(558, 3)"
      ]
     },
     "execution_count": 97,
     "metadata": {},
     "output_type": "execute_result"
    }
   ],
   "source": [
    "breweries.shape"
   ]
  },
  {
   "cell_type": "code",
   "execution_count": 98,
   "metadata": {
    "scrolled": true
   },
   "outputs": [
    {
     "data": {
      "text/html": [
       "<div>\n",
       "<style>\n",
       "    .dataframe thead tr:only-child th {\n",
       "        text-align: right;\n",
       "    }\n",
       "\n",
       "    .dataframe thead th {\n",
       "        text-align: left;\n",
       "    }\n",
       "\n",
       "    .dataframe tbody tr th {\n",
       "        vertical-align: top;\n",
       "    }\n",
       "</style>\n",
       "<table border=\"1\" class=\"dataframe\">\n",
       "  <thead>\n",
       "    <tr style=\"text-align: right;\">\n",
       "      <th></th>\n",
       "      <th>name</th>\n",
       "      <th>city</th>\n",
       "      <th>state</th>\n",
       "    </tr>\n",
       "  </thead>\n",
       "  <tbody>\n",
       "    <tr>\n",
       "      <th>count</th>\n",
       "      <td>558</td>\n",
       "      <td>558</td>\n",
       "      <td>558</td>\n",
       "    </tr>\n",
       "    <tr>\n",
       "      <th>unique</th>\n",
       "      <td>551</td>\n",
       "      <td>384</td>\n",
       "      <td>51</td>\n",
       "    </tr>\n",
       "    <tr>\n",
       "      <th>top</th>\n",
       "      <td>Blackrocks Brewery</td>\n",
       "      <td>Portland</td>\n",
       "      <td>CO</td>\n",
       "    </tr>\n",
       "    <tr>\n",
       "      <th>freq</th>\n",
       "      <td>2</td>\n",
       "      <td>17</td>\n",
       "      <td>47</td>\n",
       "    </tr>\n",
       "  </tbody>\n",
       "</table>\n",
       "</div>"
      ],
      "text/plain": [
       "                      name      city state\n",
       "count                  558       558   558\n",
       "unique                 551       384    51\n",
       "top     Blackrocks Brewery  Portland    CO\n",
       "freq                     2        17    47"
      ]
     },
     "execution_count": 98,
     "metadata": {},
     "output_type": "execute_result"
    }
   ],
   "source": [
    "breweries.describe()"
   ]
  },
  {
   "cell_type": "code",
   "execution_count": 99,
   "metadata": {
    "scrolled": false
   },
   "outputs": [
    {
     "data": {
      "text/plain": [
       "name     0\n",
       "city     0\n",
       "state    0\n",
       "dtype: int64"
      ]
     },
     "execution_count": 99,
     "metadata": {},
     "output_type": "execute_result"
    }
   ],
   "source": [
    "breweries.isnull().sum()"
   ]
  },
  {
   "cell_type": "markdown",
   "metadata": {},
   "source": [
    "For later use, looking at the most popular styles of beer"
   ]
  },
  {
   "cell_type": "code",
   "execution_count": 100,
   "metadata": {
    "scrolled": true
   },
   "outputs": [
    {
     "data": {
      "text/html": [
       "<div>\n",
       "<style>\n",
       "    .dataframe thead tr:only-child th {\n",
       "        text-align: right;\n",
       "    }\n",
       "\n",
       "    .dataframe thead th {\n",
       "        text-align: left;\n",
       "    }\n",
       "\n",
       "    .dataframe tbody tr th {\n",
       "        vertical-align: top;\n",
       "    }\n",
       "</style>\n",
       "<table border=\"1\" class=\"dataframe\">\n",
       "  <thead>\n",
       "    <tr style=\"text-align: right;\">\n",
       "      <th></th>\n",
       "      <th>abv</th>\n",
       "      <th>ibu</th>\n",
       "      <th>id</th>\n",
       "      <th>name</th>\n",
       "      <th>brewery_id</th>\n",
       "      <th>ounces</th>\n",
       "    </tr>\n",
       "    <tr>\n",
       "      <th>style</th>\n",
       "      <th></th>\n",
       "      <th></th>\n",
       "      <th></th>\n",
       "      <th></th>\n",
       "      <th></th>\n",
       "      <th></th>\n",
       "    </tr>\n",
       "  </thead>\n",
       "  <tbody>\n",
       "    <tr>\n",
       "      <th>American IPA</th>\n",
       "      <td>417</td>\n",
       "      <td>301</td>\n",
       "      <td>424</td>\n",
       "      <td>424</td>\n",
       "      <td>424</td>\n",
       "      <td>424</td>\n",
       "    </tr>\n",
       "    <tr>\n",
       "      <th>American Pale Ale (APA)</th>\n",
       "      <td>239</td>\n",
       "      <td>153</td>\n",
       "      <td>245</td>\n",
       "      <td>245</td>\n",
       "      <td>245</td>\n",
       "      <td>245</td>\n",
       "    </tr>\n",
       "    <tr>\n",
       "      <th>American Amber / Red Ale</th>\n",
       "      <td>125</td>\n",
       "      <td>77</td>\n",
       "      <td>133</td>\n",
       "      <td>133</td>\n",
       "      <td>133</td>\n",
       "      <td>133</td>\n",
       "    </tr>\n",
       "    <tr>\n",
       "      <th>American Blonde Ale</th>\n",
       "      <td>104</td>\n",
       "      <td>61</td>\n",
       "      <td>108</td>\n",
       "      <td>108</td>\n",
       "      <td>108</td>\n",
       "      <td>108</td>\n",
       "    </tr>\n",
       "    <tr>\n",
       "      <th>American Double / Imperial IPA</th>\n",
       "      <td>103</td>\n",
       "      <td>75</td>\n",
       "      <td>105</td>\n",
       "      <td>105</td>\n",
       "      <td>105</td>\n",
       "      <td>105</td>\n",
       "    </tr>\n",
       "  </tbody>\n",
       "</table>\n",
       "</div>"
      ],
      "text/plain": [
       "                                abv  ibu   id  name  brewery_id  ounces\n",
       "style                                                                  \n",
       "American IPA                    417  301  424   424         424     424\n",
       "American Pale Ale (APA)         239  153  245   245         245     245\n",
       "American Amber / Red Ale        125   77  133   133         133     133\n",
       "American Blonde Ale             104   61  108   108         108     108\n",
       "American Double / Imperial IPA  103   75  105   105         105     105"
      ]
     },
     "execution_count": 100,
     "metadata": {},
     "output_type": "execute_result"
    }
   ],
   "source": [
    "most_popular1 = beer.groupby('style').count()\n",
    "most_popular2 = most_popular1.sort_values(by = 'id', ascending=False)\n",
    "most_popular2.head()"
   ]
  },
  {
   "cell_type": "markdown",
   "metadata": {},
   "source": [
    "Now, merging the two dataframes"
   ]
  },
  {
   "cell_type": "code",
   "execution_count": 101,
   "metadata": {
    "scrolled": false
   },
   "outputs": [
    {
     "data": {
      "text/html": [
       "<div>\n",
       "<style>\n",
       "    .dataframe thead tr:only-child th {\n",
       "        text-align: right;\n",
       "    }\n",
       "\n",
       "    .dataframe thead th {\n",
       "        text-align: left;\n",
       "    }\n",
       "\n",
       "    .dataframe tbody tr th {\n",
       "        vertical-align: top;\n",
       "    }\n",
       "</style>\n",
       "<table border=\"1\" class=\"dataframe\">\n",
       "  <thead>\n",
       "    <tr style=\"text-align: right;\">\n",
       "      <th></th>\n",
       "      <th>abv</th>\n",
       "      <th>ibu</th>\n",
       "      <th>id</th>\n",
       "      <th>name_x</th>\n",
       "      <th>style</th>\n",
       "      <th>brewery_id</th>\n",
       "      <th>ounces</th>\n",
       "      <th>name_y</th>\n",
       "      <th>city</th>\n",
       "      <th>state</th>\n",
       "    </tr>\n",
       "  </thead>\n",
       "  <tbody>\n",
       "    <tr>\n",
       "      <th>0</th>\n",
       "      <td>0.050</td>\n",
       "      <td>NaN</td>\n",
       "      <td>1436</td>\n",
       "      <td>Pub Beer</td>\n",
       "      <td>American Pale Lager</td>\n",
       "      <td>408</td>\n",
       "      <td>12.0</td>\n",
       "      <td>10 Barrel Brewing Company</td>\n",
       "      <td>Bend</td>\n",
       "      <td>OR</td>\n",
       "    </tr>\n",
       "    <tr>\n",
       "      <th>1</th>\n",
       "      <td>0.066</td>\n",
       "      <td>NaN</td>\n",
       "      <td>2265</td>\n",
       "      <td>Devil's Cup</td>\n",
       "      <td>American Pale Ale (APA)</td>\n",
       "      <td>177</td>\n",
       "      <td>12.0</td>\n",
       "      <td>18th Street Brewery</td>\n",
       "      <td>Gary</td>\n",
       "      <td>IN</td>\n",
       "    </tr>\n",
       "    <tr>\n",
       "      <th>2</th>\n",
       "      <td>0.071</td>\n",
       "      <td>NaN</td>\n",
       "      <td>2264</td>\n",
       "      <td>Rise of the Phoenix</td>\n",
       "      <td>American IPA</td>\n",
       "      <td>177</td>\n",
       "      <td>12.0</td>\n",
       "      <td>18th Street Brewery</td>\n",
       "      <td>Gary</td>\n",
       "      <td>IN</td>\n",
       "    </tr>\n",
       "    <tr>\n",
       "      <th>3</th>\n",
       "      <td>0.090</td>\n",
       "      <td>NaN</td>\n",
       "      <td>2263</td>\n",
       "      <td>Sinister</td>\n",
       "      <td>American Double / Imperial IPA</td>\n",
       "      <td>177</td>\n",
       "      <td>12.0</td>\n",
       "      <td>18th Street Brewery</td>\n",
       "      <td>Gary</td>\n",
       "      <td>IN</td>\n",
       "    </tr>\n",
       "    <tr>\n",
       "      <th>4</th>\n",
       "      <td>0.075</td>\n",
       "      <td>NaN</td>\n",
       "      <td>2262</td>\n",
       "      <td>Sex and Candy</td>\n",
       "      <td>American IPA</td>\n",
       "      <td>177</td>\n",
       "      <td>12.0</td>\n",
       "      <td>18th Street Brewery</td>\n",
       "      <td>Gary</td>\n",
       "      <td>IN</td>\n",
       "    </tr>\n",
       "  </tbody>\n",
       "</table>\n",
       "</div>"
      ],
      "text/plain": [
       "     abv  ibu    id               name_x                           style  \\\n",
       "0  0.050  NaN  1436             Pub Beer             American Pale Lager   \n",
       "1  0.066  NaN  2265          Devil's Cup         American Pale Ale (APA)   \n",
       "2  0.071  NaN  2264  Rise of the Phoenix                    American IPA   \n",
       "3  0.090  NaN  2263             Sinister  American Double / Imperial IPA   \n",
       "4  0.075  NaN  2262        Sex and Candy                    American IPA   \n",
       "\n",
       "   brewery_id  ounces                     name_y  city state  \n",
       "0         408    12.0  10 Barrel Brewing Company  Bend    OR  \n",
       "1         177    12.0        18th Street Brewery  Gary    IN  \n",
       "2         177    12.0        18th Street Brewery  Gary    IN  \n",
       "3         177    12.0        18th Street Brewery  Gary    IN  \n",
       "4         177    12.0        18th Street Brewery  Gary    IN  "
      ]
     },
     "execution_count": 101,
     "metadata": {},
     "output_type": "execute_result"
    }
   ],
   "source": [
    "breweries.loc[:, 'brewery_id'] = breweries.index\n",
    "beers = beer.merge(breweries, on = 'brewery_id')\n",
    "beers.head()"
   ]
  },
  {
   "cell_type": "markdown",
   "metadata": {},
   "source": [
    "Performing exploratory analysis on the merged dataframe"
   ]
  },
  {
   "cell_type": "code",
   "execution_count": 102,
   "metadata": {
    "scrolled": false
   },
   "outputs": [
    {
     "data": {
      "image/png": "[encoded data removed]",
      "text/plain": [
       "<matplotlib.figure.Figure at 0x19a3cf05c88>"
      ]
     },
     "metadata": {},
     "output_type": "display_data"
    }
   ],
   "source": [
    "plot1 = beers.state.value_counts().plot(kind = 'bar', title = 'Number of Breweries in Each State', \n",
    "                                        colormap='winter',figsize=(9,8))\n",
    "plot1.set_xlabel('State')\n",
    "plot1.set_ylabel('Number of Breweries')\n",
    "meanline = plot1.axhline(beers.state.value_counts().mean(), label = 'Average Number of Breweries', color='red')\n",
    "plot1.legend();"
   ]
  },
  {
   "cell_type": "code",
   "execution_count": 103,
   "metadata": {
    "scrolled": true
   },
   "outputs": [
    {
     "data": {
      "image/png": "[encoded data removed]",
      "text/plain": [
       "<matplotlib.figure.Figure at 0x19a3ae47898>"
      ]
     },
     "metadata": {},
     "output_type": "display_data"
    }
   ],
   "source": [
    "plot2 = beers.groupby('state')['abv'].mean().sort_values(ascending=False).plot(kind = 'bar',\n",
    "                                                                       title = 'Average ABV in Each State', \n",
    "                                                                       color= 'blue',\n",
    "                                                                      figsize = (9,8))\n",
    "plot2.set_xlabel('Average % of Alcohol Brewed')\n",
    "plot2.set_ylabel('State')\n",
    "meanline2 = plot2.axhline(beers.abv.mean(), color = 'r', label = 'National Average')\n",
    "plot2.legend();"
   ]
  },
  {
   "cell_type": "markdown",
   "metadata": {
    "collapsed": true
   },
   "source": [
    "# Linear Regression"
   ]
  },
  {
   "cell_type": "code",
   "execution_count": 105,
   "metadata": {},
   "outputs": [
    {
     "data": {
      "text/html": [
       "<div>\n",
       "<style>\n",
       "    .dataframe thead tr:only-child th {\n",
       "        text-align: right;\n",
       "    }\n",
       "\n",
       "    .dataframe thead th {\n",
       "        text-align: left;\n",
       "    }\n",
       "\n",
       "    .dataframe tbody tr th {\n",
       "        vertical-align: top;\n",
       "    }\n",
       "</style>\n",
       "<table border=\"1\" class=\"dataframe\">\n",
       "  <thead>\n",
       "    <tr style=\"text-align: right;\">\n",
       "      <th></th>\n",
       "      <th>abv</th>\n",
       "      <th>ibu</th>\n",
       "      <th>id</th>\n",
       "      <th>name_x</th>\n",
       "      <th>style</th>\n",
       "      <th>brewery_id</th>\n",
       "      <th>ounces</th>\n",
       "      <th>name_y</th>\n",
       "      <th>city</th>\n",
       "      <th>state</th>\n",
       "    </tr>\n",
       "  </thead>\n",
       "  <tbody>\n",
       "    <tr>\n",
       "      <th>0</th>\n",
       "      <td>0.050</td>\n",
       "      <td>NaN</td>\n",
       "      <td>1436</td>\n",
       "      <td>Pub Beer</td>\n",
       "      <td>American Pale Lager</td>\n",
       "      <td>408</td>\n",
       "      <td>12.0</td>\n",
       "      <td>10 Barrel Brewing Company</td>\n",
       "      <td>Bend</td>\n",
       "      <td>OR</td>\n",
       "    </tr>\n",
       "    <tr>\n",
       "      <th>1</th>\n",
       "      <td>0.066</td>\n",
       "      <td>NaN</td>\n",
       "      <td>2265</td>\n",
       "      <td>Devil's Cup</td>\n",
       "      <td>American Pale Ale (APA)</td>\n",
       "      <td>177</td>\n",
       "      <td>12.0</td>\n",
       "      <td>18th Street Brewery</td>\n",
       "      <td>Gary</td>\n",
       "      <td>IN</td>\n",
       "    </tr>\n",
       "    <tr>\n",
       "      <th>2</th>\n",
       "      <td>0.071</td>\n",
       "      <td>NaN</td>\n",
       "      <td>2264</td>\n",
       "      <td>Rise of the Phoenix</td>\n",
       "      <td>American IPA</td>\n",
       "      <td>177</td>\n",
       "      <td>12.0</td>\n",
       "      <td>18th Street Brewery</td>\n",
       "      <td>Gary</td>\n",
       "      <td>IN</td>\n",
       "    </tr>\n",
       "    <tr>\n",
       "      <th>3</th>\n",
       "      <td>0.090</td>\n",
       "      <td>NaN</td>\n",
       "      <td>2263</td>\n",
       "      <td>Sinister</td>\n",
       "      <td>American Double / Imperial IPA</td>\n",
       "      <td>177</td>\n",
       "      <td>12.0</td>\n",
       "      <td>18th Street Brewery</td>\n",
       "      <td>Gary</td>\n",
       "      <td>IN</td>\n",
       "    </tr>\n",
       "    <tr>\n",
       "      <th>4</th>\n",
       "      <td>0.075</td>\n",
       "      <td>NaN</td>\n",
       "      <td>2262</td>\n",
       "      <td>Sex and Candy</td>\n",
       "      <td>American IPA</td>\n",
       "      <td>177</td>\n",
       "      <td>12.0</td>\n",
       "      <td>18th Street Brewery</td>\n",
       "      <td>Gary</td>\n",
       "      <td>IN</td>\n",
       "    </tr>\n",
       "  </tbody>\n",
       "</table>\n",
       "</div>"
      ],
      "text/plain": [
       "     abv  ibu    id               name_x                           style  \\\n",
       "0  0.050  NaN  1436             Pub Beer             American Pale Lager   \n",
       "1  0.066  NaN  2265          Devil's Cup         American Pale Ale (APA)   \n",
       "2  0.071  NaN  2264  Rise of the Phoenix                    American IPA   \n",
       "3  0.090  NaN  2263             Sinister  American Double / Imperial IPA   \n",
       "4  0.075  NaN  2262        Sex and Candy                    American IPA   \n",
       "\n",
       "   brewery_id  ounces                     name_y  city state  \n",
       "0         408    12.0  10 Barrel Brewing Company  Bend    OR  \n",
       "1         177    12.0        18th Street Brewery  Gary    IN  \n",
       "2         177    12.0        18th Street Brewery  Gary    IN  \n",
       "3         177    12.0        18th Street Brewery  Gary    IN  \n",
       "4         177    12.0        18th Street Brewery  Gary    IN  "
      ]
     },
     "execution_count": 105,
     "metadata": {},
     "output_type": "execute_result"
    }
   ],
   "source": [
    "beers.head()"
   ]
  },
  {
   "cell_type": "code",
   "execution_count": 83,
   "metadata": {},
   "outputs": [
    {
     "ename": "AttributeError",
     "evalue": "'function' object has no attribute 'loc'",
     "output_type": "error",
     "traceback": [
      "\u001b[1;31m---------------------------------------------------------------------------\u001b[0m",
      "\u001b[1;31mAttributeError\u001b[0m                            Traceback (most recent call last)",
      "\u001b[1;32m<ipython-input-83-d2ed54430d2f>\u001b[0m in \u001b[0;36m<module>\u001b[1;34m()\u001b[0m\n\u001b[0;32m      3\u001b[0m \u001b[0mlinreg\u001b[0m \u001b[1;33m=\u001b[0m \u001b[0mLinearRegression\u001b[0m\u001b[1;33m(\u001b[0m\u001b[1;33m)\u001b[0m\u001b[1;33m\u001b[0m\u001b[0m\n\u001b[0;32m      4\u001b[0m \u001b[1;33m\u001b[0m\u001b[0m\n\u001b[1;32m----> 5\u001b[1;33m \u001b[0mX\u001b[0m \u001b[1;33m=\u001b[0m \u001b[0mbeers\u001b[0m\u001b[1;33m.\u001b[0m\u001b[0mloc\u001b[0m\u001b[1;33m[\u001b[0m\u001b[1;33m:\u001b[0m\u001b[1;33m,\u001b[0m\u001b[1;33m[\u001b[0m\u001b[1;34m'abv'\u001b[0m\u001b[1;33m]\u001b[0m\u001b[1;33m]\u001b[0m\u001b[1;33m\u001b[0m\u001b[0m\n\u001b[0m\u001b[0;32m      6\u001b[0m \u001b[0my\u001b[0m \u001b[1;33m=\u001b[0m \u001b[0mbeers\u001b[0m\u001b[1;33m.\u001b[0m\u001b[0mloc\u001b[0m\u001b[1;33m[\u001b[0m\u001b[1;33m:\u001b[0m\u001b[1;33m,\u001b[0m\u001b[1;34m'ibu'\u001b[0m\u001b[1;33m]\u001b[0m\u001b[1;33m\u001b[0m\u001b[0m\n\u001b[0;32m      7\u001b[0m \u001b[1;33m\u001b[0m\u001b[0m\n",
      "\u001b[1;31mAttributeError\u001b[0m: 'function' object has no attribute 'loc'"
     ]
    }
   ],
   "source": [
    "from sklearn.linear_model import LinearRegression\n",
    "\n",
    "linreg = LinearRegression()\n",
    "\n",
    "X = beers.loc[:,['abv']]\n",
    "y = beers.loc[:,'ibu']\n",
    "\n",
    "linreg.fit(X,y)"
   ]
  },
  {
   "cell_type": "code",
   "execution_count": null,
   "metadata": {
    "collapsed": true
   },
   "outputs": [],
   "source": []
  }
 ],
 "metadata": {
  "kernelspec": {
   "display_name": "Python 3",
   "language": "python",
   "name": "python3"
  },
  "language_info": {
   "codemirror_mode": {
    "name": "ipython",
    "version": 3
   },
   "file_extension": ".py",
   "mimetype": "text/x-python",
   "name": "python",
   "nbconvert_exporter": "python",
   "pygments_lexer": "ipython3",
   "version": "3.6.3"
  }
 },
 "nbformat": 4,
 "nbformat_minor": 2
}
